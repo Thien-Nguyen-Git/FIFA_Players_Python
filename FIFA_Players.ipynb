{
 "cells": [
  {
   "cell_type": "code",
   "execution_count": 3,
   "metadata": {},
   "outputs": [],
   "source": [
    "# libraries for project\n",
    "import pandas as pd\n",
    "import pandasql as ps\n",
    "import numpy as np\n",
    "import matplotlib.pyplot as plt"
   ]
  },
  {
   "cell_type": "code",
   "execution_count": 3,
   "metadata": {},
   "outputs": [
    {
     "ename": "SyntaxError",
     "evalue": "invalid syntax. Perhaps you forgot a comma? (Temp/ipykernel_3308/3316190095.py, line 2)",
     "output_type": "error",
     "traceback": [
      "\u001b[1;36m  File \u001b[1;32m\"C:\\Users\\thien\\AppData\\Local\\Temp/ipykernel_3308/3316190095.py\"\u001b[1;36m, line \u001b[1;32m2\u001b[0m\n\u001b[1;33m    pip install pandas\u001b[0m\n\u001b[1;37m        ^\u001b[0m\n\u001b[1;31mSyntaxError\u001b[0m\u001b[1;31m:\u001b[0m invalid syntax. Perhaps you forgot a comma?\n"
     ]
    }
   ],
   "source": [
    "# Alternative Installation in terminal\n",
    "pip install pandas\n",
    "pip install pandasql\n",
    "python -m pip install -U pip \n",
    "python -m pip install -U matplotlib"
   ]
  },
  {
   "cell_type": "code",
   "execution_count": 4,
   "metadata": {},
   "outputs": [],
   "source": [
    "data = pd.read_csv(r'C:\\Users\\thien\\Downloads\\JUMPlus_Fifa-main\\Python_FIFA_Players\\players_20.csv')\n",
    "#print (df)"
   ]
  },
  {
   "cell_type": "code",
   "execution_count": 5,
   "metadata": {},
   "outputs": [],
   "source": [
    "df = pd.DataFrame(data)\n",
    "#print(df)"
   ]
  },
  {
   "cell_type": "code",
   "execution_count": 6,
   "metadata": {},
   "outputs": [],
   "source": [
    "output = ps.sqldf(\"select * from df\")\n",
    "#print(output)"
   ]
  },
  {
   "cell_type": "code",
   "execution_count": 7,
   "metadata": {},
   "outputs": [
    {
     "name": "stdout",
     "output_type": "stream",
     "text": [
      "   sofifa_id                                         player_url  \\\n",
      "0     158023  https://sofifa.com/player/158023/lionel-messi/...   \n",
      "1      20801  https://sofifa.com/player/20801/c-ronaldo-dos-...   \n",
      "2     190871  https://sofifa.com/player/190871/neymar-da-sil...   \n",
      "3     200389  https://sofifa.com/player/200389/jan-oblak/20/...   \n",
      "4     183277  https://sofifa.com/player/183277/eden-hazard/2...   \n",
      "\n",
      "          short_name                            long_name  age        dob  \\\n",
      "0           L. Messi       Lionel Andrés Messi Cuccittini   32  6/24/1987   \n",
      "1  Cristiano Ronaldo  Cristiano Ronaldo dos Santos Aveiro   34   2/5/1985   \n",
      "2          Neymar Jr        Neymar da Silva Santos Junior   27   2/5/1992   \n",
      "3           J. Oblak                            Jan Oblak   26   1/7/1993   \n",
      "4          E. Hazard                          Eden Hazard   28   1/7/1991   \n",
      "\n",
      "   height_cm  weight_kg nationality                 club  ...   lwb   ldm  \\\n",
      "0        170         72   Argentina         FC Barcelona  ...  68+2  66+2   \n",
      "1        187         83    Portugal             Juventus  ...  65+3  61+3   \n",
      "2        175         68      Brazil  Paris Saint-Germain  ...  66+3  61+3   \n",
      "3        188         87    Slovenia      Atlético Madrid  ...  None  None   \n",
      "4        175         74     Belgium          Real Madrid  ...  66+3  63+3   \n",
      "\n",
      "    cdm   rdm   rwb    lb   lcb    cb   rcb    rb  \n",
      "0  66+2  66+2  68+2  63+2  52+2  52+2  52+2  63+2  \n",
      "1  61+3  61+3  65+3  61+3  53+3  53+3  53+3  61+3  \n",
      "2  61+3  61+3  66+3  61+3  46+3  46+3  46+3  61+3  \n",
      "3  None  None  None  None  None  None  None  None  \n",
      "4  63+3  63+3  66+3  61+3  49+3  49+3  49+3  61+3  \n",
      "\n",
      "[5 rows x 104 columns]\n"
     ]
    }
   ],
   "source": [
    "# 1. Load the csv file and show top 5 records from it. \n",
    "output = ps.sqldf(\"select * from df limit 5;\")\n",
    "print(output)"
   ]
  },
  {
   "cell_type": "code",
   "execution_count": 8,
   "metadata": {},
   "outputs": [
    {
     "name": "stdout",
     "output_type": "stream",
     "text": [
      "['sofifa_id', 'player_url', 'short_name', 'long_name', 'age', 'dob', 'height_cm', 'weight_kg', 'nationality', 'club', 'overall', 'potential', 'value_eur', 'wage_eur', 'player_positions', 'preferred_foot', 'international_reputation', 'weak_foot', 'skill_moves', 'work_rate', 'body_type', 'real_face', 'release_clause_eur', 'player_tags', 'team_position', 'team_jersey_number', 'loaned_from', 'joined', 'contract_valid_until', 'nation_position', 'nation_jersey_number', 'pace', 'shooting', 'passing', 'dribbling', 'defending', 'physic', 'gk_diving', 'gk_handling', 'gk_kicking', 'gk_reflexes', 'gk_speed', 'gk_positioning', 'player_traits', 'attacking_crossing', 'attacking_finishing', 'attacking_heading_accuracy', 'attacking_short_passing', 'attacking_volleys', 'skill_dribbling', 'skill_curve', 'skill_fk_accuracy', 'skill_long_passing', 'skill_ball_control', 'movement_acceleration', 'movement_sprint_speed', 'movement_agility', 'movement_reactions', 'movement_balance', 'power_shot_power', 'power_jumping', 'power_stamina', 'power_strength', 'power_long_shots', 'mentality_aggression', 'mentality_interceptions', 'mentality_positioning', 'mentality_vision', 'mentality_penalties', 'mentality_composure', 'defending_marking', 'defending_standing_tackle', 'defending_sliding_tackle', 'goalkeeping_diving', 'goalkeeping_handling', 'goalkeeping_kicking', 'goalkeeping_positioning', 'goalkeeping_reflexes', 'ls', 'st', 'rs', 'lw', 'lf', 'cf', 'rf', 'rw', 'lam', 'cam', 'ram', 'lm', 'lcm', 'cm', 'rcm', 'rm', 'lwb', 'ldm', 'cdm', 'rdm', 'rwb', 'lb', 'lcb', 'cb', 'rcb', 'rb']\n"
     ]
    }
   ],
   "source": [
    "# 2. How you would be able to see each column's name.\n",
    "print(df.columns.tolist())"
   ]
  },
  {
   "cell_type": "code",
   "execution_count": 9,
   "metadata": {},
   "outputs": [
    {
     "name": "stdout",
     "output_type": "stream",
     "text": [
      "Rows  Cols\n",
      "18278 104\n"
     ]
    }
   ],
   "source": [
    "# 3. Need to show number of rows and columns of this dataset.\n",
    "output1 = len(df.axes[1])\n",
    "output2 = len(df.axes[0])\n",
    "print(\"Rows  Cols\")\n",
    "print(output2 ,output1)"
   ]
  },
  {
   "cell_type": "code",
   "execution_count": 10,
   "metadata": {},
   "outputs": [
    {
     "name": "stdout",
     "output_type": "stream",
     "text": [
      "               Country  Num of Players\n",
      "0          Afghanistan               2\n",
      "1              Albania              43\n",
      "2              Algeria              50\n",
      "3               Angola              16\n",
      "4    Antigua & Barbuda               7\n",
      "..                 ...             ...\n",
      "157          Venezuela              66\n",
      "158            Vietnam               1\n",
      "159              Wales             117\n",
      "160             Zambia              10\n",
      "161           Zimbabwe              12\n",
      "\n",
      "[162 rows x 2 columns]\n"
     ]
    }
   ],
   "source": [
    "# 4. Show number of players and their countries.\n",
    "output = ps.sqldf(\"\"\"select\n",
    "                    nationality as 'Country',\n",
    "                    count(*) as 'Num of Players'\n",
    "                from\n",
    "                    df\n",
    "                group by\n",
    "                    nationality;\"\"\")\n",
    "print(output)"
   ]
  },
  {
   "cell_type": "code",
   "execution_count": 11,
   "metadata": {},
   "outputs": [
    {
     "name": "stdout",
     "output_type": "stream",
     "text": [
      "      Country  Num of Players  Avg Potential\n",
      "0  Mozambique               4      73.250000\n",
      "1        Chad               1      73.000000\n",
      "2     Bahrain               1      72.000000\n",
      "3     Uruguay             164      71.646341\n",
      "4     Algeria              50      71.380000\n",
      "5      Brazil             824      71.161408\n",
      "6      Israel              16      71.125000\n",
      "7       Libya               4      71.000000\n",
      "8     Eritrea               1      71.000000\n",
      "9       Gabon              16      70.687500\n"
     ]
    }
   ],
   "source": [
    "# 5. If you find many records in point 4 then show only top 10 countries and their number of players.\n",
    "output = ps.sqldf(\"\"\"select\n",
    "                        nationality Country,\n",
    "                        count(*) as 'Num of Players',\n",
    "                        AVG(overall)  as 'Avg Potential'\n",
    "                    from\n",
    "                        df\n",
    "                    group by\n",
    "                        nationality\n",
    "                    order by \n",
    "                        AVG(overall) desc\n",
    "                    limit \n",
    "                        10;\"\"\")\n",
    "print(output)"
   ]
  },
  {
   "cell_type": "code",
   "execution_count": 12,
   "metadata": {},
   "outputs": [
    {
     "data": {
      "image/png": "[encoded data removed]",
      "text/plain": [
       "<Figure size 432x288 with 1 Axes>"
      ]
     },
     "metadata": {
      "needs_background": "light"
     },
     "output_type": "display_data"
    }
   ],
   "source": [
    "# 6. Now you have to create a bar plot of top 5 countries and their number of players, try to fill green color in bars.\n",
    "X = output.iloc[:,0]\n",
    "\n",
    "Y = output.iloc[:,1]\n",
    "            \n",
    "plt.bar(X, Y, color='g')\n",
    "plt.title(\"Top Players & Wages\")\n",
    "plt.xlabel(\"Players\")\n",
    "plt.ylabel(\"Wages\")\n",
    "\n",
    "plt.show()"
   ]
  }
 ],
 "metadata": {
  "interpreter": {
   "hash": "7ace2cd91ccec7c91bf09df760b9b22d452c9a6d6a2ccfc06e67ef2f1311ecf6"
  },
  "kernelspec": {
   "display_name": "Python 3.10.0 64-bit",
   "language": "python",
   "name": "python3"
  },
  "language_info": {
   "codemirror_mode": {
    "name": "ipython",
    "version": 3
   },
   "file_extension": ".py",
   "mimetype": "text/x-python",
   "name": "python",
   "nbconvert_exporter": "python",
   "pygments_lexer": "ipython3",
   "version": "3.10.0"
  },
  "orig_nbformat": 4
 },
 "nbformat": 4,
 "nbformat_minor": 2
}
